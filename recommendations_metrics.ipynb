{
 "cells": [
  {
   "cell_type": "markdown",
   "id": "2f308f02",
   "metadata": {},
   "source": [
    "Собираем метрики и делаем выводы"
   ]
  },
  {
   "cell_type": "code",
   "execution_count": 1,
   "id": "08fcf211",
   "metadata": {},
   "outputs": [],
   "source": [
    "import pandas as pd\n",
    "import numpy as np\n",
    "from pathlib import Path\n",
    "from sklearn.metrics import ndcg_score\n",
    "import joblib\n",
    "from catboost import CatBoostRanker, Pool\n",
    "import mlflow\n",
    "from utils_mlflow import setup_mlflow_client, setup_env\n",
    "import pickle\n",
    "import json"
   ]
  },
  {
   "cell_type": "code",
   "execution_count": 2,
   "id": "53ed4bc7",
   "metadata": {},
   "outputs": [],
   "source": [
    "ALS_pth = Path(\"ALS_assets\")\n",
    "\n",
    "range_feature_pth = Path(\"range_features\")\n",
    "\n",
    "models_pth = Path(\"models\")\n",
    "\n",
    "num_recs = 10"
   ]
  },
  {
   "cell_type": "code",
   "execution_count": 3,
   "id": "c182fdd1",
   "metadata": {},
   "outputs": [],
   "source": [
    "test_range_model = pd.read_parquet(range_feature_pth / \"test_X.parquet\")\n",
    "model_5 = CatBoostRanker().load_model(models_pth / \"catboost_ranker.cbm\")\n",
    "model_8 = CatBoostRanker().load_model(models_pth / \"catboost_ranker_8.cbm\")\n",
    "\n",
    "with open(models_pth / \"cat_features.pkl\", \"rb\") as f:\n",
    "    cat_features_model = pickle.load(f)"
   ]
  },
  {
   "cell_type": "code",
   "execution_count": 4,
   "id": "f7758422",
   "metadata": {},
   "outputs": [],
   "source": [
    "def convert_categorical_to_str(df: pd.DataFrame, cat_features: list) -> pd.DataFrame:\n",
    "    df_copy = df.copy()\n",
    "\n",
    "    for feature in cat_features:\n",
    "        if feature in df_copy.columns:\n",
    "            df_copy[feature] = df_copy[feature].astype(str)\n",
    "\n",
    "    return df_copy\n",
    "\n",
    "\n",
    "def generate_ranking_recommendations(\n",
    "    model, test_data: pd.DataFrame, features: list, cat_features: list, k: int = 15\n",
    ") -> dict:\n",
    "    \"\"\"\n",
    "    Генерация рекомендаций из ranking модели\n",
    "    \"\"\"\n",
    "    # Подготавливаем данные для предсказания\n",
    "    test_data = test_data.copy()\n",
    "\n",
    "    test_data = convert_categorical_to_str(test_data, cat_features)\n",
    "\n",
    "    test_data[\"group_id\"] = (\n",
    "        test_data[\"visitorid\"].astype(str)\n",
    "        + \"_\"\n",
    "        + test_data[\"anchor_session_id\"].astype(str)\n",
    "    )\n",
    "    test_data = test_data.sort_values(\"group_id\").reset_index(drop=True)\n",
    "\n",
    "    # Делаем предсказания\n",
    "    test_pool = Pool(\n",
    "        test_data[features],\n",
    "        group_id=test_data[\"group_id\"],\n",
    "        cat_features=[\n",
    "            c\n",
    "            for c in features\n",
    "            if c\n",
    "            in [\n",
    "                \"available\",\n",
    "                \"categoryid\",\n",
    "                \"root_category\",\n",
    "                \"level_0\",\n",
    "                \"level_1\",\n",
    "                \"level_2\",\n",
    "                \"level_3\",\n",
    "                \"level_4\",\n",
    "                \"level_5\",\n",
    "            ]\n",
    "        ],\n",
    "    )\n",
    "\n",
    "    predictions = model.predict(test_pool)\n",
    "    test_data[\"prediction\"] = predictions\n",
    "\n",
    "    # Создаем топ-k рекомендации для каждого пользователя\n",
    "    recommendations = {}\n",
    "    for (visitor_id, session_id), group in test_data.groupby(\n",
    "        [\"visitorid\", \"anchor_session_id\"]\n",
    "    ):\n",
    "        top_items = group.nlargest(k, \"prediction\")[\"itemid\"].tolist()\n",
    "        recommendations[visitor_id] = top_items\n",
    "\n",
    "    return recommendations"
   ]
  },
  {
   "cell_type": "code",
   "execution_count": 5,
   "id": "b5242516",
   "metadata": {},
   "outputs": [],
   "source": [
    "def load_mappings(pth: Path) -> tuple[dict, dict]:\n",
    "    with open(pth / \"hash_visitoridx_train.json\") as f:\n",
    "        idx2user = {int(float(k)): int(float(v)) for k, v in json.load(f).items()}\n",
    "    with open(pth / \"hash_itemidx_train.json\") as f:\n",
    "        idx2item = {int(float(k)): int(float(v)) for k, v in json.load(f).items()}\n",
    "    return idx2user, idx2item\n",
    "\n",
    "\n",
    "def load_als_and_sim(idx2user: dict, idx2item: dict, pth_in: Path) -> tuple[dict, dict]:\n",
    "    als_recs = pd.read_parquet(pth_in / \"als_recommendations.parquet\")\n",
    "    als_recs[\"visitorid\"] = als_recs[\"visitoridx\"].map(idx2user)\n",
    "    als_recs[\"itemid\"] = als_recs[\"itemidx\"].map(idx2item)\n",
    "    als_recs = als_recs.dropna(subset=[\"visitorid\", \"itemid\"])\n",
    "    als_recs.rename(columns={\"rating\": \"als_score\"}, inplace=True)\n",
    "\n",
    "    als_user_lookup = {\n",
    "        uid: dict(zip(df_u[\"itemid\"], df_u[\"als_score\"]))\n",
    "        for uid, df_u in als_recs.groupby(\"visitorid\")\n",
    "    }\n",
    "\n",
    "    sim_df = pd.read_parquet(pth_in / \"similar_items_df.parquet\")\n",
    "\n",
    "    sim_df[\"itemid\"] = sim_df[\"items_idx\"].map(idx2item)\n",
    "    sim_df[\"sim_itemid\"] = sim_df[\"sim_item_id_idx\"].map(idx2item)\n",
    "    sim_df = sim_df.dropna(subset=[\"itemid\", \"sim_itemid\"])\n",
    "    sim_df = sim_df[sim_df[\"itemid\"] != sim_df[\"sim_itemid\"]]\n",
    "\n",
    "    sim_index = {\n",
    "        iid: dict(zip(g[\"sim_itemid\"], g[\"score\"]))\n",
    "        for iid, g in sim_df.groupby(\"itemid\")\n",
    "    }\n",
    "\n",
    "    return als_user_lookup, sim_index"
   ]
  },
  {
   "cell_type": "code",
   "execution_count": 6,
   "id": "d4d61c71",
   "metadata": {},
   "outputs": [],
   "source": [
    "idx2user, idx2item = load_mappings(ALS_pth)\n",
    "\n",
    "als_user_lookup, sim_index = load_als_and_sim(idx2user, idx2item, ALS_pth)"
   ]
  },
  {
   "cell_type": "code",
   "execution_count": 7,
   "id": "c197681e",
   "metadata": {},
   "outputs": [
    {
     "data": {
      "text/plain": [
       "{384302: 0.0066687241196632385,\n",
       " 393028: 0.005869865417480469,\n",
       " 161623: 0.005481332074850798,\n",
       " 91105: 0.005304347723722458,\n",
       " 206880: 0.0050936173647642136,\n",
       " 219512: 0.005062459036707878,\n",
       " 11279: 0.004846337251365185,\n",
       " 274798: 0.004784093238413334,\n",
       " 289103: 0.004687211941927671,\n",
       " 254477: 0.004485338926315308,\n",
       " 321850: 0.004393714014440775,\n",
       " 350103: 0.004338754341006279,\n",
       " 110529: 0.004218859598040581,\n",
       " 89688: 0.004209653940051794,\n",
       " 197642: 0.004183892160654068,\n",
       " 190536: 0.004177401773631573,\n",
       " 301843: 0.004097780212759972,\n",
       " 359251: 0.004060692153871059,\n",
       " 118446: 0.004054447636008263,\n",
       " 115426: 0.0040053860284388065,\n",
       " 260093: 0.004004208371043205,\n",
       " 204070: 0.003922739997506142,\n",
       " 368488: 0.00391325494274497,\n",
       " 187132: 0.0039127361960709095,\n",
       " 45543: 0.003854788839817047,\n",
       " 120763: 0.003849760629236698,\n",
       " 230616: 0.003848025808110833,\n",
       " 331311: 0.003744009416550398,\n",
       " 190000: 0.0037105244118720293,\n",
       " 149253: 0.0035858992487192154,\n",
       " 45323: 0.003490645904093981,\n",
       " 216225: 0.00343985459767282,\n",
       " 126555: 0.0034254237543791533,\n",
       " 19752: 0.003422166220843792,\n",
       " 212726: 0.003422109642997384,\n",
       " 60682: 0.003400634042918682,\n",
       " 255689: 0.0033847643062472343,\n",
       " 140378: 0.0033707628026604652,\n",
       " 58627: 0.003289293497800827,\n",
       " 126247: 0.0032829451374709606,\n",
       " 454784: 0.003281002165749669,\n",
       " 7161: 0.003276077564805746,\n",
       " 43725: 0.0032237255945801735,\n",
       " 31640: 0.003223466221243143,\n",
       " 459848: 0.0031675889622420073,\n",
       " 428827: 0.0031322038266807795,\n",
       " 254101: 0.003126851748675108,\n",
       " 362659: 0.0030699686612933874,\n",
       " 103221: 0.003030120162293315,\n",
       " 57301: 0.0029482259415090084,\n",
       " 105868: 0.0029376656748354435,\n",
       " 312094: 0.0029339310713112354,\n",
       " 131745: 0.002807090524584055,\n",
       " 387869: 0.0028022434562444687,\n",
       " 463663: 0.0027927597984671593,\n",
       " 422671: 0.0027881599962711334,\n",
       " 189265: 0.002781820483505726,\n",
       " 65761: 0.0026393721345812082,\n",
       " 48291: 0.002624338027089834,\n",
       " 109116: 0.002578328363597393,\n",
       " 357474: 0.0025561079382896423,\n",
       " 356740: 0.002551473444327712,\n",
       " 402403: 0.0025441651232540607,\n",
       " 277689: 0.0024968315847218037,\n",
       " 290999: 0.0024450558703392744,\n",
       " 302311: 0.0024270976427942514,\n",
       " 200544: 0.0023984054569154978,\n",
       " 103900: 0.0022634915076196194,\n",
       " 351027: 0.002200490329414606,\n",
       " 72026: 0.0021886774338781834,\n",
       " 259292: 0.0021476957481354475,\n",
       " 106801: 0.0020983857102692127,\n",
       " 28747: 0.0020563581492751837,\n",
       " 112782: 0.00203878665342927,\n",
       " 186360: 0.002032335614785552,\n",
       " 394217: 0.002016063779592514,\n",
       " 217869: 0.001999962842091918,\n",
       " 376283: 0.0018699966603890061,\n",
       " 3858: 0.0018668635748326778,\n",
       " 441668: 0.0018196988385170698,\n",
       " 416219: 0.0018073294777423143,\n",
       " 64881: 0.001751973875798285,\n",
       " 349736: 0.0017174087697640061,\n",
       " 159542: 0.0016711278585717082,\n",
       " 259962: 0.0016226641600951552,\n",
       " 203915: 0.001567947561852634,\n",
       " 217673: 0.0015128592494875193,\n",
       " 342848: 0.0014625820331275463,\n",
       " 124035: 0.0014474010095000267,\n",
       " 229071: 0.0014208677457645535,\n",
       " 61203: 0.0014106114394962788,\n",
       " 59873: 0.001383448950946331,\n",
       " 251776: 0.0013809672091156244,\n",
       " 310314: 0.0013472686987370253,\n",
       " 2651: 0.001335574546828866,\n",
       " 50923: 0.0013328727800399065,\n",
       " 73162: 0.0012956049758940935,\n",
       " 71334: 0.0012775473296642303,\n",
       " 105416: 0.0012481119483709335,\n",
       " 253296: 0.0012316758511587977}"
      ]
     },
     "execution_count": 7,
     "metadata": {},
     "output_type": "execute_result"
    }
   ],
   "source": [
    "als_user_lookup.get(1)"
   ]
  },
  {
   "cell_type": "code",
   "execution_count": 8,
   "id": "5929de65",
   "metadata": {},
   "outputs": [],
   "source": [
    "def convert_base_line_to_recommendations(\n",
    "    recs_from_base_line: dict, k: int = 10\n",
    ") -> dict:\n",
    "    \"\"\"\n",
    "    Конвертирует  рекомендации из формата {user: {item: score}}\n",
    "    в формат {user: [top_k_items]}\n",
    "    \"\"\"\n",
    "    recommendations = {}\n",
    "\n",
    "    for user_id, item_scores in recs_from_base_line.items():\n",
    "        # Сортируем товары по убыванию скора и берем топ-k\n",
    "        sorted_items = sorted(item_scores.items(), key=lambda x: x[1], reverse=True)\n",
    "        top_k_items = [item_id for item_id, score in sorted_items[:k]]\n",
    "        recommendations[user_id] = top_k_items\n",
    "\n",
    "    return recommendations"
   ]
  },
  {
   "cell_type": "code",
   "execution_count": 9,
   "id": "58c95086",
   "metadata": {},
   "outputs": [],
   "source": [
    "als_recs = convert_base_line_to_recommendations(als_user_lookup, num_recs)\n",
    "\n",
    "sim_recs = convert_base_line_to_recommendations(sim_index, num_recs)"
   ]
  },
  {
   "cell_type": "code",
   "execution_count": 10,
   "id": "4588d7a3",
   "metadata": {},
   "outputs": [],
   "source": [
    "range_model_recs5 = generate_ranking_recommendations(\n",
    "    model_5, test_range_model, model_5.feature_names_, cat_features_model, k=num_recs\n",
    ")\n",
    "\n",
    "range_model_recs8 = generate_ranking_recommendations(\n",
    "    model_8, test_range_model, model_8.feature_names_, cat_features_model, k=num_recs\n",
    ")"
   ]
  },
  {
   "cell_type": "code",
   "execution_count": 11,
   "id": "43d5ae0d",
   "metadata": {},
   "outputs": [],
   "source": [
    "def calculate_recommendation_metrics(\n",
    "    recommendations: dict,\n",
    "    test_range_model: pd.DataFrame,\n",
    "    k: int = 15,\n",
    "    model_name: str = \"model\",\n",
    ") -> dict:\n",
    "    \"\"\"\n",
    "    Расчет метрик для рекомендательной системы\n",
    "\n",
    "    Args:\n",
    "        recommendations: словарь {user_id: [recommended_items]}\n",
    "        test_range_model: тестовые данные с истинными взаимодействиями\n",
    "        k: количество рекомендаций для оценки\n",
    "        model_name: название модели для логирования\n",
    "\n",
    "    Returns:\n",
    "        dict: словарь с метриками\n",
    "    \"\"\"\n",
    "\n",
    "    # Подготовка истинных взаимодействий из тестовых данных\n",
    "    true_interactions = {}\n",
    "    for _, row in test_range_model.iterrows():\n",
    "        user_id = row[\"visitorid\"]\n",
    "        item_id = row[\"itemid\"]\n",
    "\n",
    "        if user_id not in true_interactions:\n",
    "            true_interactions[user_id] = set()\n",
    "        true_interactions[user_id].add(item_id)\n",
    "\n",
    "    # Инициализация метрик\n",
    "    precisions = []\n",
    "    recalls = []\n",
    "    f1_scores = []\n",
    "\n",
    "    # Для каждого пользователя рассчитываем метрики\n",
    "    for user_id in recommendations.keys():\n",
    "        if user_id not in true_interactions:\n",
    "            continue\n",
    "\n",
    "        # Рекомендованные товары (топ-k)\n",
    "        recommended_items = set(recommendations[user_id][:k])\n",
    "\n",
    "        # Истинные взаимодействия пользователя\n",
    "        true_items = true_interactions[user_id]\n",
    "\n",
    "        # Пересечение рекомендаций и истинных взаимодействий\n",
    "        relevant_recommended = recommended_items.intersection(true_items)\n",
    "\n",
    "        # Precision@k = |relevant ∩ recommended| / |recommended|\n",
    "        precision = (\n",
    "            len(relevant_recommended) / len(recommended_items)\n",
    "            if len(recommended_items) > 0\n",
    "            else 0\n",
    "        )\n",
    "        precisions.append(precision)\n",
    "\n",
    "        # Recall@k = |relevant ∩ recommended| / |relevant|\n",
    "        recall = (\n",
    "            len(relevant_recommended) / len(true_items) if len(true_items) > 0 else 0\n",
    "        )\n",
    "        recalls.append(recall)\n",
    "\n",
    "        # F1@k\n",
    "        f1 = (\n",
    "            2 * precision * recall / (precision + recall)\n",
    "            if (precision + recall) > 0\n",
    "            else 0\n",
    "        )\n",
    "        f1_scores.append(f1)\n",
    "\n",
    "    # Средние значения метрик\n",
    "    avg_precision = np.mean(precisions) if precisions else 0\n",
    "    avg_recall = np.mean(recalls) if recalls else 0\n",
    "    avg_f1 = np.mean(f1_scores) if f1_scores else 0\n",
    "\n",
    "    # Coverage - доля уникальных товаров в рекомендациях\n",
    "    all_recommended_items = set()\n",
    "    for recs in recommendations.values():\n",
    "        all_recommended_items.update(recs[:k])\n",
    "\n",
    "    all_items = set(test_range_model[\"itemid\"].unique())\n",
    "    coverage = len(all_recommended_items) / len(all_items) if len(all_items) > 0 else 0\n",
    "\n",
    "    # Novelty - средняя популярность рекомендованных товаров (чем меньше, тем новее)\n",
    "    item_popularity = test_range_model[\"itemid\"].value_counts()\n",
    "    total_interactions = len(test_range_model)\n",
    "\n",
    "    novelty_scores = []\n",
    "    for recs in recommendations.values():\n",
    "        for item_id in recs[:k]:\n",
    "            if item_id in item_popularity:\n",
    "                # Популярность как доля от общего количества взаимодействий\n",
    "                popularity = item_popularity[item_id] / total_interactions\n",
    "                # Новизна = -log(популярность)\n",
    "                novelty = -np.log(popularity) if popularity > 0 else 0\n",
    "                novelty_scores.append(novelty)\n",
    "\n",
    "    avg_novelty = np.mean(novelty_scores) if novelty_scores else 0\n",
    "\n",
    "    # Собираем все метрики\n",
    "    metrics = {\n",
    "        \"model_name\": model_name,\n",
    "        \"k\": k,\n",
    "        \"precision_at_k\": avg_precision,\n",
    "        \"recall_at_k\": avg_recall,\n",
    "        \"f1_at_k\": avg_f1,\n",
    "        \"coverage\": coverage,\n",
    "        \"novelty\": avg_novelty,\n",
    "        \"num_users_evaluated\": len(precisions),\n",
    "        \"num_recommendations\": sum(len(recs[:k]) for recs in recommendations.values()),\n",
    "    }\n",
    "\n",
    "    return metrics"
   ]
  },
  {
   "cell_type": "code",
   "execution_count": 12,
   "id": "0eec2a2e",
   "metadata": {},
   "outputs": [],
   "source": [
    "model5_metrics = calculate_recommendation_metrics(\n",
    "    recommendations=range_model_recs5,\n",
    "    test_range_model=test_range_model,\n",
    "    k=num_recs,\n",
    "    model_name=\"model5\",\n",
    ")"
   ]
  },
  {
   "cell_type": "code",
   "execution_count": 13,
   "id": "f7bcd90a",
   "metadata": {},
   "outputs": [
    {
     "data": {
      "text/plain": [
       "{'model_name': 'model5',\n",
       " 'k': 10,\n",
       " 'precision_at_k': np.float64(1.0),\n",
       " 'recall_at_k': np.float64(0.13956241850241313),\n",
       " 'f1_at_k': np.float64(0.24215029809511837),\n",
       " 'coverage': 0.6858085399021706,\n",
       " 'novelty': np.float64(11.466331776634679),\n",
       " 'num_users_evaluated': 19233,\n",
       " 'num_recommendations': 192330}"
      ]
     },
     "execution_count": 13,
     "metadata": {},
     "output_type": "execute_result"
    }
   ],
   "source": [
    "model5_metrics"
   ]
  },
  {
   "cell_type": "code",
   "execution_count": 14,
   "id": "c2d8c542",
   "metadata": {},
   "outputs": [],
   "source": [
    "model8_metrics = calculate_recommendation_metrics(\n",
    "    recommendations=range_model_recs8,\n",
    "    test_range_model=test_range_model,\n",
    "    k=num_recs,\n",
    "    model_name=\"model8\",\n",
    ")"
   ]
  },
  {
   "cell_type": "code",
   "execution_count": 15,
   "id": "b3a77fa4",
   "metadata": {},
   "outputs": [
    {
     "data": {
      "text/plain": [
       "{'model_name': 'model8',\n",
       " 'k': 10,\n",
       " 'precision_at_k': np.float64(1.0),\n",
       " 'recall_at_k': np.float64(0.13956241850241313),\n",
       " 'f1_at_k': np.float64(0.24215029809511837),\n",
       " 'coverage': 0.6863979979110435,\n",
       " 'novelty': np.float64(11.45532126868709),\n",
       " 'num_users_evaluated': 19233,\n",
       " 'num_recommendations': 192330}"
      ]
     },
     "execution_count": 15,
     "metadata": {},
     "output_type": "execute_result"
    }
   ],
   "source": [
    "model8_metrics"
   ]
  },
  {
   "cell_type": "code",
   "execution_count": 17,
   "id": "d877ef9e",
   "metadata": {},
   "outputs": [],
   "source": [
    "als_metrics = calculate_recommendation_metrics(\n",
    "    recommendations=als_recs,\n",
    "    test_range_model=test_range_model,\n",
    "    k=num_recs,\n",
    "    model_name=\"ALS\",\n",
    ")"
   ]
  },
  {
   "cell_type": "code",
   "execution_count": 18,
   "id": "c60ba4b1",
   "metadata": {},
   "outputs": [
    {
     "data": {
      "text/plain": [
       "{'model_name': 'ALS',\n",
       " 'k': 10,\n",
       " 'precision_at_k': np.float64(1.0),\n",
       " 'recall_at_k': np.float64(0.06074396966961586),\n",
       " 'f1_at_k': np.float64(0.11442899584161476),\n",
       " 'coverage': 0.037704629830711794,\n",
       " 'novelty': np.float64(8.315935037477049),\n",
       " 'num_users_evaluated': 3724,\n",
       " 'num_recommendations': 9919690}"
      ]
     },
     "execution_count": 18,
     "metadata": {},
     "output_type": "execute_result"
    }
   ],
   "source": [
    "als_metrics"
   ]
  },
  {
   "cell_type": "code",
   "execution_count": 19,
   "id": "8ddf8091",
   "metadata": {},
   "outputs": [],
   "source": [
    "sim_metrics = calculate_recommendation_metrics(\n",
    "    recommendations=sim_recs,\n",
    "    test_range_model=test_range_model,\n",
    "    k=num_recs,\n",
    "    model_name=\"similar_items\",\n",
    ")"
   ]
  },
  {
   "cell_type": "code",
   "execution_count": 20,
   "id": "e1b8000c",
   "metadata": {},
   "outputs": [
    {
     "data": {
      "text/plain": [
       "{'model_name': 'similar_items',\n",
       " 'k': 10,\n",
       " 'precision_at_k': np.float64(0.0010737628384687207),\n",
       " 'recall_at_k': np.float64(0.00011391006527439793),\n",
       " 'f1_at_k': np.float64(0.0002011026886381323),\n",
       " 'coverage': 1.6662426705550213,\n",
       " 'novelty': np.float64(13.483117191112992),\n",
       " 'num_users_evaluated': 2142,\n",
       " 'num_recommendations': 1598960}"
      ]
     },
     "execution_count": 20,
     "metadata": {},
     "output_type": "execute_result"
    }
   ],
   "source": [
    "sim_metrics"
   ]
  },
  {
   "cell_type": "code",
   "execution_count": 21,
   "id": "316b2bf5",
   "metadata": {},
   "outputs": [],
   "source": [
    "import mlflow\n",
    "from utils_mlflow import setup_env, setup_mlflow_client\n",
    "\n",
    "\n",
    "EXPERIMENT_NAME = \"online_recommendations_pr_final\"\n",
    "RUN_NAME = \"collect_metrics\"\n",
    "\n",
    "\n",
    "setup_env()\n",
    "client = setup_mlflow_client()\n",
    "\n",
    "\n",
    "if client.get_experiment_by_name(EXPERIMENT_NAME) is None:\n",
    "    experiment_id = client.create_experiment(EXPERIMENT_NAME)\n",
    "else:\n",
    "    experiment_id = client.get_experiment_by_name(EXPERIMENT_NAME).experiment_id\n",
    "\n",
    "\n",
    "mlflow.set_tracking_uri(client.tracking_uri)\n",
    "mlflow.set_registry_uri(client.tracking_uri)"
   ]
  },
  {
   "cell_type": "code",
   "execution_count": 23,
   "id": "6ebd4fbf",
   "metadata": {},
   "outputs": [],
   "source": [
    "def add_model_prefix(metrics_dict: dict, model_name: str) -> dict:\n",
    "    \"\"\"\n",
    "    Добавляет префикс модели к именам метрик\n",
    "    \"\"\"\n",
    "    prefixed_metrics = {}\n",
    "    for key, value in metrics_dict.items():\n",
    "        if key not in [\"model_name\"]:\n",
    "            new_key = f\"{model_name}_{key}\"\n",
    "            prefixed_metrics[new_key] = value\n",
    "    return prefixed_metrics\n",
    "\n",
    "\n",
    "# Добавляем префиксы\n",
    "model5_metrics_prefixed = add_model_prefix(model5_metrics, \"model5\")\n",
    "model8_metrics_prefixed = add_model_prefix(model8_metrics, \"model8\")\n",
    "als_metrics_prefixed = add_model_prefix(als_metrics, \"als\")\n",
    "sim_metrics_prefixed = add_model_prefix(sim_metrics, \"similarity\")"
   ]
  },
  {
   "cell_type": "code",
   "execution_count": 24,
   "id": "ab71fbd9",
   "metadata": {},
   "outputs": [
    {
     "name": "stdout",
     "output_type": "stream",
     "text": [
      "🏃 View run collect_metrics at: http://127.0.0.1:5000/#/experiments/17/runs/477114c3531d4936bf6ff68fc3c2e561\n",
      "🧪 View experiment at: http://127.0.0.1:5000/#/experiments/17\n"
     ]
    }
   ],
   "source": [
    "with mlflow.start_run(experiment_id=experiment_id, run_name=RUN_NAME) as run:\n",
    "    mlflow.log_metrics(model5_metrics_prefixed)\n",
    "    mlflow.log_metrics(model8_metrics_prefixed)\n",
    "    mlflow.log_metrics(als_metrics_prefixed)\n",
    "    mlflow.log_metrics(sim_metrics_prefixed)\n",
    "\n",
    "    mlflow.log_param(\"num_recs\", num_recs)"
   ]
  }
 ],
 "metadata": {
  "kernelspec": {
   "display_name": "mle-pr-final",
   "language": "python",
   "name": "python3"
  },
  "language_info": {
   "codemirror_mode": {
    "name": "ipython",
    "version": 3
   },
   "file_extension": ".py",
   "mimetype": "text/x-python",
   "name": "python",
   "nbconvert_exporter": "python",
   "pygments_lexer": "ipython3",
   "version": "3.10.18"
  }
 },
 "nbformat": 4,
 "nbformat_minor": 5
}
